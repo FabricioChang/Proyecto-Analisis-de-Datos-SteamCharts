{
 "cells": [
  {
   "cell_type": "code",
   "execution_count": 1,
   "metadata": {},
   "outputs": [],
   "source": [
    "# Importar librerías\n",
    "import os\n",
    "import pandas as pd\n",
    "import seaborn as sns\n",
    "import matplotlib.pyplot as plt\n",
    "\n",
    "# Configurar estilo de gráficos\n",
    "sns.set(style=\"whitegrid\")"
   ]
  },
  {
   "cell_type": "code",
   "execution_count": 2,
   "metadata": {},
   "outputs": [],
   "source": [
    "# Rutas\n",
    "diccionario_rutas = {\n",
    "    \"World of Warcraft\" : \"datos/World of Warcraft.csv\",\n",
    "    \"The Lord of the Rings Online\" : \"datos/The Lord of the Rings Online™.csv\",\n",
    "    \"The Elder Scrolls Online\" : \"datos/The Elder Scrolls Online.csv\",\n",
    "    \"Star Wars: The Old Republic\" : \"datos/STAR WARS™: The Old Republic™.csv\",\n",
    "    \"RuneScape\" : \"datos/RuneScape.csv\",\n",
    "    \"Project Gorgon\" : \"datos/Project: Gorgon.csv\",\n",
    "    \"Path of Exile 2\" : \"datos/Path of Exile 2.csv\",\n",
    "    \"Path of Exile\" : \"datos/Path of Exile.csv\",\n",
    "    \"Old School RuneScape\" : \"datos/Old School RuneScape.csv\",\n",
    "    \"Lost Ark\" : \"datos/Lost Ark.csv\",\n",
    "    \"Guild Wars 2\" : \"datos/Guild Wars 2.csv\",\n",
    "    \"Final Fantasy\" : \"datos/FINAL FANTASY XIV Online.csv\",\n",
    "    \"Adventure Quest\" : \"datos/AdventureQuest 3D.csv\",\n",
    "    \"Throne and Liberty\" : \"datos/THRONE AND LIBERTY.csv\"\n",
    "}"
   ]
  },
  {
   "cell_type": "code",
   "execution_count": 3,
   "metadata": {},
   "outputs": [
    {
     "name": "stdout",
     "output_type": "stream",
     "text": [
      "Datos de World of Warcraft cargados con éxito!\n",
      "\n",
      "Datos de The Lord of the Rings Online cargados con éxito!\n",
      "\n",
      "Datos de The Elder Scrolls Online cargados con éxito!\n",
      "\n",
      "Datos de Star Wars: The Old Republic cargados con éxito!\n",
      "\n",
      "Datos de RuneScape cargados con éxito!\n",
      "\n",
      "Datos de Project Gorgon cargados con éxito!\n",
      "\n",
      "Datos de Path of Exile cargados con éxito!\n",
      "\n",
      "Datos de Old School RuneScape cargados con éxito!\n",
      "\n",
      "Datos de Lost Ark cargados con éxito!\n",
      "\n",
      "Datos de Guild Wars 2 cargados con éxito!\n",
      "\n",
      "Datos de Final Fantasy cargados con éxito!\n",
      "\n",
      "Datos de Adventure Quest cargados con éxito!\n",
      "\n",
      "Datos de Throne and Liberty cargados con éxito!\n",
      "\n",
      "['World of Warcraft', 'The Lord of the Rings Online', 'The Elder Scrolls Online', 'Star Wars: The Old Republic', 'RuneScape', 'Project Gorgon', 'Path of Exile', 'Old School RuneScape', 'Lost Ark', 'Guild Wars 2', 'Final Fantasy', 'Adventure Quest', 'Throne and Liberty']\n"
     ]
    }
   ],
   "source": [
    "# Carga de datos\n",
    "diccionario_datos = {}\n",
    "for x,y in diccionario_rutas.items():\n",
    "    try:\n",
    "        if x != \"Path of Exile 2\":\n",
    "            diccionario_datos[x] = pd.read_csv(y)\n",
    "            print(f'Datos de {x} cargados con éxito!\\n')\n",
    "    except Exception as e:\n",
    "        print(f'Error al cargar los datos de {x}\\n')\n",
    "lista_juegos = list(diccionario_datos.keys())\n",
    "print(lista_juegos)"
   ]
  },
  {
   "cell_type": "code",
   "execution_count": 4,
   "metadata": {},
   "outputs": [
    {
     "name": "stdout",
     "output_type": "stream",
     "text": [
      "{'World of Warcraft': 49, 'The Lord of the Rings Online': 152, 'The Elder Scrolls Online': 128, 'Star Wars: The Old Republic': 56, 'RuneScape': 53, 'Project Gorgon': 84, 'Path of Exile': 137, 'Old School RuneScape': 48, 'Lost Ark': 37, 'Guild Wars 2': 31, 'Final Fantasy': 133, 'Adventure Quest': 103, 'Throne and Liberty': 5}\n"
     ]
    }
   ],
   "source": [
    "diccionario_cantidad = {}\n",
    "for x,y in diccionario_datos.items():\n",
    "    diccionario_cantidad[x] = len(y)\n",
    "    \n",
    "print(diccionario_cantidad)"
   ]
  },
  {
   "cell_type": "code",
   "execution_count": 5,
   "metadata": {},
   "outputs": [
    {
     "name": "stdout",
     "output_type": "stream",
     "text": [
      "            fecha   promedio\n",
      "0    Last 30 Days  8,109,696\n",
      "1   December 2024  8,212,350\n",
      "2   November 2024  9,270,010\n",
      "3    October 2024  8,298,188\n",
      "4  September 2024  8,110,828\n"
     ]
    }
   ],
   "source": [
    "print(diccionario_datos[\"World of Warcraft\"].head())"
   ]
  },
  {
   "cell_type": "code",
   "execution_count": 7,
   "metadata": {},
   "outputs": [
    {
     "name": "stdout",
     "output_type": "stream",
     "text": [
      "Gráfico guardado: graficos/World of Warcraft.png\n",
      "Gráfico guardado: graficos/The Lord of the Rings Online.png\n",
      "Gráfico guardado: graficos/The Elder Scrolls Online.png\n",
      "Gráfico guardado: graficos/Star Wars: The Old Republic.png\n",
      "Gráfico guardado: graficos/RuneScape.png\n",
      "Gráfico guardado: graficos/Project Gorgon.png\n",
      "Gráfico guardado: graficos/Path of Exile.png\n",
      "Gráfico guardado: graficos/Old School RuneScape.png\n",
      "Gráfico guardado: graficos/Lost Ark.png\n",
      "Gráfico guardado: graficos/Guild Wars 2.png\n",
      "Gráfico guardado: graficos/Final Fantasy.png\n",
      "Gráfico guardado: graficos/Adventure Quest.png\n",
      "Gráfico guardado: graficos/Throne and Liberty.png\n"
     ]
    }
   ],
   "source": [
    "os.makedirs(\"graficos\", exist_ok=True)\n",
    "\n",
    "for x,y in diccionario_datos.items():\n",
    "    y = y[y['fecha'] != 'Last 30 Days']\n",
    "    y = y.iloc[::-1].reset_index(drop=True)\n",
    "    plt.figure(figsize=(14, 6))\n",
    "    \n",
    "    # Escalar promedios para \"World of Warcraft\" (en millones)\n",
    "    if x == \"World of Warcraft\":\n",
    "        y['promedio'] = y['promedio'].str.replace(',', '').astype(int) / 1_000_000\n",
    "        ylabel = \"Promedio (en millones)\"\n",
    "    else:\n",
    "        y = y.iloc[:-1]\n",
    "        ylabel = \"Promedio\"\n",
    "        \n",
    "    # Crear el gráfico de barras\n",
    "    plt.bar(y['fecha'], y['promedio'], color='skyblue', edgecolor='black')\n",
    "    plt.title(f'Promedios por Fecha {x}', fontsize=16)\n",
    "    plt.xlabel('Fecha', fontsize=14)\n",
    "    plt.ylabel(ylabel, fontsize=14)\n",
    "\n",
    "    # Reducir los rotulos del eje x para datasets grandes\n",
    "    if len(y) > 20:\n",
    "        plt.xticks(range(0, len(y), max(1, len(y) // 10)), y['fecha'][::max(1, len(y) // 10)], rotation=45, ha='right', fontsize=10)\n",
    "    else:\n",
    "        plt.xticks(rotation=45, ha='right', fontsize=12)\n",
    "\n",
    "    plt.grid(axis='y', linestyle='--', alpha=0.7)\n",
    "    plt.tight_layout()\n",
    "    #plt.show()\n",
    "    \n",
    "    ruta_grafico = os.path.join(\"graficos\", f\"{x}.png\")\n",
    "    plt.savefig(ruta_grafico)\n",
    "    plt.close()\n",
    "\n",
    "    print(f\"Gráfico guardado: {ruta_grafico}\")"
   ]
  }
 ],
 "metadata": {
  "kernelspec": {
   "display_name": "Python 3",
   "language": "python",
   "name": "python3"
  },
  "language_info": {
   "codemirror_mode": {
    "name": "ipython",
    "version": 3
   },
   "file_extension": ".py",
   "mimetype": "text/x-python",
   "name": "python",
   "nbconvert_exporter": "python",
   "pygments_lexer": "ipython3",
   "version": "3.7.6"
  }
 },
 "nbformat": 4,
 "nbformat_minor": 5
}
