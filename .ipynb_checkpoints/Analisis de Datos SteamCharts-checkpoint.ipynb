{
 "cells": [
  {
   "cell_type": "code",
   "execution_count": 1,
   "id": "f21301e7",
   "metadata": {},
   "outputs": [],
   "source": [
    "# Importar librerías\n",
    "import pandas as pd\n",
    "import seaborn as sns\n",
    "import matplotlib.pyplot as plt\n",
    "\n",
    "# Configurar estilo de gráficos\n",
    "sns.set(style=\"whitegrid\")"
   ]
  },
  {
   "cell_type": "code",
   "execution_count": 2,
   "id": "43bda195",
   "metadata": {},
   "outputs": [],
   "source": [
    "# Rutas\n",
    "diccionario_rutas = {\n",
    "    \"World of Warcraft\" : \"datos/World of Warcraft.csv\",\n",
    "    \"The Lord of the Rings Online\" : \"datos/The Lord of the Rings Online™.csv\",\n",
    "    \"The Elder Scrolls Online\" : \"datos/The Elder Scrolls Online.csv\",\n",
    "    \"Star Wars: The Old Republic\" : \"datos/STAR WARS™_ The Old Republic™.csv\",\n",
    "    \"RuneScape\" : \"datos/RuneScape.csv\",\n",
    "    \"Project Gorgon\" : \"datos/Project_ Gorgon.csv\",\n",
    "    \"Path of Exile 2\" : \"datos/Path of Exile 2.csv\",\n",
    "    \"Path of Exile\" : \"datos/Path of Exile.csv\",\n",
    "    \"Old School RuneScape\" : \"datos/Old School RuneScape.csv\",\n",
    "    \"Lost Ark\" : \"datos/Lost Ark.csv\",\n",
    "    \"Guild Wars 2\" : \"datos/Guild Wars 2.csv\",\n",
    "    \"Final Fantasy\" : \"datos/FINAL FANTASY XIV Online.csv\",\n",
    "    \"Adventure Quest\" : \"datos/AdventureQuest 3D.csv\"\n",
    "}"
   ]
  },
  {
   "cell_type": "code",
   "execution_count": 5,
   "id": "1c217f39",
   "metadata": {},
   "outputs": [
    {
     "name": "stdout",
     "output_type": "stream",
     "text": [
      "Error al cargar los datos de World of Warcraft\n",
      "\n",
      "Error al cargar los datos de The Lord of the Rings Online\n",
      "\n",
      "Error al cargar los datos de The Elder Scrolls Online\n",
      "\n",
      "Error al cargar los datos de Star Wars: The Old Republic\n",
      "\n",
      "Error al cargar los datos de RuneScape\n",
      "\n",
      "Error al cargar los datos de Project Gorgon\n",
      "\n",
      "Error al cargar los datos de Path of Exile 2\n",
      "\n",
      "Error al cargar los datos de Path of Exile\n",
      "\n",
      "Error al cargar los datos de Old School RuneScape\n",
      "\n",
      "Error al cargar los datos de Lost Ark\n",
      "\n",
      "Error al cargar los datos de Guild Wars 2\n",
      "\n",
      "Error al cargar los datos de Final Fantasy\n",
      "\n",
      "Error al cargar los datos de Adventure Quest\n",
      "\n",
      "[]\n",
      "{}\n"
     ]
    }
   ],
   "source": [
    "# Carga de datos\n",
    "diccionario_datos = {}\n",
    "diccionario_cantidad = {}\n",
    "for x,y in diccionario_rutas.items():\n",
    "    try:\n",
    "        datos = pd.read_csv(y)\n",
    "        datos.head()\n",
    "        if x == \"World of Warcraft\":\n",
    "            print(datos.pop(0))\n",
    "            diccionario_cantidad[x] = datos.pop(0).strip().split(\",\")[1]\n",
    "            diccionario_datos[x] = datos\n",
    "        else:\n",
    "            diccionario_cantidad[x] = datos.pop(0).strip().split(\",\")[2]\n",
    "            diccionario_datos[x] = datos\n",
    "        print(f'Datos de {x} cargados con éxito!\\n')\n",
    "    except Exception as e:\n",
    "        print(f'Error al cargar los datos de {x}\\n')\n",
    "lista_juegos = list(diccionario_datos.keys())\n",
    "print(lista_juegos)\n",
    "print(diccionario_cantidad)"
   ]
  },
  {
   "cell_type": "code",
   "execution_count": 4,
   "id": "88af9720",
   "metadata": {},
   "outputs": [
    {
     "ename": "KeyError",
     "evalue": "'World of Warcraft'",
     "output_type": "error",
     "traceback": [
      "\u001b[0;31m---------------------------------------------------------------------------\u001b[0m",
      "\u001b[0;31mKeyError\u001b[0m                                  Traceback (most recent call last)",
      "Cell \u001b[0;32mIn[4], line 1\u001b[0m\n\u001b[0;32m----> 1\u001b[0m \u001b[43mdiccionario_datos\u001b[49m\u001b[43m[\u001b[49m\u001b[38;5;124;43m'\u001b[39;49m\u001b[38;5;124;43mWorld of Warcraft\u001b[39;49m\u001b[38;5;124;43m'\u001b[39;49m\u001b[43m]\u001b[49m\u001b[38;5;241m.\u001b[39mhead()\n",
      "\u001b[0;31mKeyError\u001b[0m: 'World of Warcraft'"
     ]
    }
   ],
   "source": [
    "diccionario_datos['World of Warcraft'].head()"
   ]
  },
  {
   "cell_type": "code",
   "execution_count": null,
   "id": "b6779bd1",
   "metadata": {},
   "outputs": [],
   "source": []
  }
 ],
 "metadata": {
  "kernelspec": {
   "display_name": "Python (myenv)",
   "language": "python",
   "name": "myenv"
  },
  "language_info": {
   "codemirror_mode": {
    "name": "ipython",
    "version": 3
   },
   "file_extension": ".py",
   "mimetype": "text/x-python",
   "name": "python",
   "nbconvert_exporter": "python",
   "pygments_lexer": "ipython3",
   "version": "3.12.3"
  }
 },
 "nbformat": 4,
 "nbformat_minor": 5
}
